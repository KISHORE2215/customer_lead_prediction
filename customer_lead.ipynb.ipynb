{
 "cells": [
  {
   "cell_type": "code",
   "execution_count": 22,
   "id": "6ebc2acb-4ff8-47ab-86ae-65492fbb9859",
   "metadata": {},
   "outputs": [],
   "source": [
    "# Import libraries\n",
    "import pandas as pd \n",
    "import numpy as np\n",
    "import matplotlib.pyplot as plt\n",
    "import seaborn as sns\n",
    "import warnings\n",
    "warnings.filterwarnings('ignore')"
   ]
  },
  {
   "cell_type": "code",
   "execution_count": 23,
   "id": "5e2cd2eb-bae5-49fd-86be-f7aad6e315b7",
   "metadata": {},
   "outputs": [
    {
     "data": {
      "text/html": [
       "<div>\n",
       "<style scoped>\n",
       "    .dataframe tbody tr th:only-of-type {\n",
       "        vertical-align: middle;\n",
       "    }\n",
       "\n",
       "    .dataframe tbody tr th {\n",
       "        vertical-align: top;\n",
       "    }\n",
       "\n",
       "    .dataframe thead th {\n",
       "        text-align: right;\n",
       "    }\n",
       "</style>\n",
       "<table border=\"1\" class=\"dataframe\">\n",
       "  <thead>\n",
       "    <tr style=\"text-align: right;\">\n",
       "      <th></th>\n",
       "      <th>Prospect ID</th>\n",
       "      <th>Lead Number</th>\n",
       "      <th>Lead Origin</th>\n",
       "      <th>Lead Source</th>\n",
       "      <th>Do Not Email</th>\n",
       "      <th>Do Not Call</th>\n",
       "      <th>Converted</th>\n",
       "      <th>TotalVisits</th>\n",
       "      <th>Total Time Spent on Website</th>\n",
       "      <th>Page Views Per Visit</th>\n",
       "      <th>...</th>\n",
       "      <th>Get updates on DM Content</th>\n",
       "      <th>Lead Profile</th>\n",
       "      <th>City</th>\n",
       "      <th>Asymmetrique Activity Index</th>\n",
       "      <th>Asymmetrique Profile Index</th>\n",
       "      <th>Asymmetrique Activity Score</th>\n",
       "      <th>Asymmetrique Profile Score</th>\n",
       "      <th>I agree to pay the amount through cheque</th>\n",
       "      <th>A free copy of Mastering The Interview</th>\n",
       "      <th>Last Notable Activity</th>\n",
       "    </tr>\n",
       "  </thead>\n",
       "  <tbody>\n",
       "    <tr>\n",
       "      <th>0</th>\n",
       "      <td>7927b2df-8bba-4d29-b9a2-b6e0beafe620</td>\n",
       "      <td>660737</td>\n",
       "      <td>API</td>\n",
       "      <td>Olark Chat</td>\n",
       "      <td>No</td>\n",
       "      <td>No</td>\n",
       "      <td>0</td>\n",
       "      <td>0.0</td>\n",
       "      <td>0</td>\n",
       "      <td>0.0</td>\n",
       "      <td>...</td>\n",
       "      <td>No</td>\n",
       "      <td>Select</td>\n",
       "      <td>Select</td>\n",
       "      <td>02.Medium</td>\n",
       "      <td>02.Medium</td>\n",
       "      <td>15.0</td>\n",
       "      <td>15.0</td>\n",
       "      <td>No</td>\n",
       "      <td>No</td>\n",
       "      <td>Modified</td>\n",
       "    </tr>\n",
       "    <tr>\n",
       "      <th>1</th>\n",
       "      <td>2a272436-5132-4136-86fa-dcc88c88f482</td>\n",
       "      <td>660728</td>\n",
       "      <td>API</td>\n",
       "      <td>Organic Search</td>\n",
       "      <td>No</td>\n",
       "      <td>No</td>\n",
       "      <td>0</td>\n",
       "      <td>5.0</td>\n",
       "      <td>674</td>\n",
       "      <td>2.5</td>\n",
       "      <td>...</td>\n",
       "      <td>No</td>\n",
       "      <td>Select</td>\n",
       "      <td>Select</td>\n",
       "      <td>02.Medium</td>\n",
       "      <td>02.Medium</td>\n",
       "      <td>15.0</td>\n",
       "      <td>15.0</td>\n",
       "      <td>No</td>\n",
       "      <td>No</td>\n",
       "      <td>Email Opened</td>\n",
       "    </tr>\n",
       "    <tr>\n",
       "      <th>2</th>\n",
       "      <td>8cc8c611-a219-4f35-ad23-fdfd2656bd8a</td>\n",
       "      <td>660727</td>\n",
       "      <td>Landing Page Submission</td>\n",
       "      <td>Direct Traffic</td>\n",
       "      <td>No</td>\n",
       "      <td>No</td>\n",
       "      <td>1</td>\n",
       "      <td>2.0</td>\n",
       "      <td>1532</td>\n",
       "      <td>2.0</td>\n",
       "      <td>...</td>\n",
       "      <td>No</td>\n",
       "      <td>Potential Lead</td>\n",
       "      <td>Mumbai</td>\n",
       "      <td>02.Medium</td>\n",
       "      <td>01.High</td>\n",
       "      <td>14.0</td>\n",
       "      <td>20.0</td>\n",
       "      <td>No</td>\n",
       "      <td>Yes</td>\n",
       "      <td>Email Opened</td>\n",
       "    </tr>\n",
       "    <tr>\n",
       "      <th>3</th>\n",
       "      <td>0cc2df48-7cf4-4e39-9de9-19797f9b38cc</td>\n",
       "      <td>660719</td>\n",
       "      <td>Landing Page Submission</td>\n",
       "      <td>Direct Traffic</td>\n",
       "      <td>No</td>\n",
       "      <td>No</td>\n",
       "      <td>0</td>\n",
       "      <td>1.0</td>\n",
       "      <td>305</td>\n",
       "      <td>1.0</td>\n",
       "      <td>...</td>\n",
       "      <td>No</td>\n",
       "      <td>Select</td>\n",
       "      <td>Mumbai</td>\n",
       "      <td>02.Medium</td>\n",
       "      <td>01.High</td>\n",
       "      <td>13.0</td>\n",
       "      <td>17.0</td>\n",
       "      <td>No</td>\n",
       "      <td>No</td>\n",
       "      <td>Modified</td>\n",
       "    </tr>\n",
       "    <tr>\n",
       "      <th>4</th>\n",
       "      <td>3256f628-e534-4826-9d63-4a8b88782852</td>\n",
       "      <td>660681</td>\n",
       "      <td>Landing Page Submission</td>\n",
       "      <td>Google</td>\n",
       "      <td>No</td>\n",
       "      <td>No</td>\n",
       "      <td>1</td>\n",
       "      <td>2.0</td>\n",
       "      <td>1428</td>\n",
       "      <td>1.0</td>\n",
       "      <td>...</td>\n",
       "      <td>No</td>\n",
       "      <td>Select</td>\n",
       "      <td>Mumbai</td>\n",
       "      <td>02.Medium</td>\n",
       "      <td>01.High</td>\n",
       "      <td>15.0</td>\n",
       "      <td>18.0</td>\n",
       "      <td>No</td>\n",
       "      <td>No</td>\n",
       "      <td>Modified</td>\n",
       "    </tr>\n",
       "  </tbody>\n",
       "</table>\n",
       "<p>5 rows × 37 columns</p>\n",
       "</div>"
      ],
      "text/plain": [
       "                            Prospect ID  Lead Number              Lead Origin  \\\n",
       "0  7927b2df-8bba-4d29-b9a2-b6e0beafe620       660737                      API   \n",
       "1  2a272436-5132-4136-86fa-dcc88c88f482       660728                      API   \n",
       "2  8cc8c611-a219-4f35-ad23-fdfd2656bd8a       660727  Landing Page Submission   \n",
       "3  0cc2df48-7cf4-4e39-9de9-19797f9b38cc       660719  Landing Page Submission   \n",
       "4  3256f628-e534-4826-9d63-4a8b88782852       660681  Landing Page Submission   \n",
       "\n",
       "      Lead Source Do Not Email Do Not Call  Converted  TotalVisits  \\\n",
       "0      Olark Chat           No          No          0          0.0   \n",
       "1  Organic Search           No          No          0          5.0   \n",
       "2  Direct Traffic           No          No          1          2.0   \n",
       "3  Direct Traffic           No          No          0          1.0   \n",
       "4          Google           No          No          1          2.0   \n",
       "\n",
       "   Total Time Spent on Website  Page Views Per Visit  ...  \\\n",
       "0                            0                   0.0  ...   \n",
       "1                          674                   2.5  ...   \n",
       "2                         1532                   2.0  ...   \n",
       "3                          305                   1.0  ...   \n",
       "4                         1428                   1.0  ...   \n",
       "\n",
       "  Get updates on DM Content    Lead Profile    City  \\\n",
       "0                        No          Select  Select   \n",
       "1                        No          Select  Select   \n",
       "2                        No  Potential Lead  Mumbai   \n",
       "3                        No          Select  Mumbai   \n",
       "4                        No          Select  Mumbai   \n",
       "\n",
       "  Asymmetrique Activity Index Asymmetrique Profile Index  \\\n",
       "0                   02.Medium                  02.Medium   \n",
       "1                   02.Medium                  02.Medium   \n",
       "2                   02.Medium                    01.High   \n",
       "3                   02.Medium                    01.High   \n",
       "4                   02.Medium                    01.High   \n",
       "\n",
       "  Asymmetrique Activity Score Asymmetrique Profile Score  \\\n",
       "0                        15.0                       15.0   \n",
       "1                        15.0                       15.0   \n",
       "2                        14.0                       20.0   \n",
       "3                        13.0                       17.0   \n",
       "4                        15.0                       18.0   \n",
       "\n",
       "  I agree to pay the amount through cheque  \\\n",
       "0                                       No   \n",
       "1                                       No   \n",
       "2                                       No   \n",
       "3                                       No   \n",
       "4                                       No   \n",
       "\n",
       "  A free copy of Mastering The Interview Last Notable Activity  \n",
       "0                                     No              Modified  \n",
       "1                                     No          Email Opened  \n",
       "2                                    Yes          Email Opened  \n",
       "3                                     No              Modified  \n",
       "4                                     No              Modified  \n",
       "\n",
       "[5 rows x 37 columns]"
      ]
     },
     "execution_count": 23,
     "metadata": {},
     "output_type": "execute_result"
    }
   ],
   "source": [
    "data = pd.read_csv(r\"C:\\Users\\HP\\Downloads\\Leads.csv\")\n",
    "data.head()"
   ]
  },
  {
   "cell_type": "code",
   "execution_count": 24,
   "id": "33fa9385-f9da-4ef9-93ce-465d51adf90e",
   "metadata": {},
   "outputs": [
    {
     "data": {
      "text/plain": [
       "Index(['Prospect ID', 'Lead Number', 'Lead Origin', 'Lead Source',\n",
       "       'Do Not Email', 'Do Not Call', 'Converted', 'TotalVisits',\n",
       "       'Total Time Spent on Website', 'Page Views Per Visit', 'Last Activity',\n",
       "       'Country', 'Specialization', 'How did you hear about X Education',\n",
       "       'What is your current occupation',\n",
       "       'What matters most to you in choosing a course', 'Search', 'Magazine',\n",
       "       'Newspaper Article', 'X Education Forums', 'Newspaper',\n",
       "       'Digital Advertisement', 'Through Recommendations',\n",
       "       'Receive More Updates About Our Courses', 'Tags', 'Lead Quality',\n",
       "       'Update me on Supply Chain Content', 'Get updates on DM Content',\n",
       "       'Lead Profile', 'City', 'Asymmetrique Activity Index',\n",
       "       'Asymmetrique Profile Index', 'Asymmetrique Activity Score',\n",
       "       'Asymmetrique Profile Score',\n",
       "       'I agree to pay the amount through cheque',\n",
       "       'A free copy of Mastering The Interview', 'Last Notable Activity'],\n",
       "      dtype='object')"
      ]
     },
     "execution_count": 24,
     "metadata": {},
     "output_type": "execute_result"
    }
   ],
   "source": [
    "data.columns"
   ]
  },
  {
   "cell_type": "code",
   "execution_count": 25,
   "id": "82596a55-3b35-46e2-b206-00e197250caa",
   "metadata": {},
   "outputs": [
    {
     "name": "stdout",
     "output_type": "stream",
     "text": [
      "<class 'pandas.core.frame.DataFrame'>\n",
      "RangeIndex: 9240 entries, 0 to 9239\n",
      "Data columns (total 37 columns):\n",
      " #   Column                                         Non-Null Count  Dtype  \n",
      "---  ------                                         --------------  -----  \n",
      " 0   Prospect ID                                    9240 non-null   object \n",
      " 1   Lead Number                                    9240 non-null   int64  \n",
      " 2   Lead Origin                                    9240 non-null   object \n",
      " 3   Lead Source                                    9204 non-null   object \n",
      " 4   Do Not Email                                   9240 non-null   object \n",
      " 5   Do Not Call                                    9240 non-null   object \n",
      " 6   Converted                                      9240 non-null   int64  \n",
      " 7   TotalVisits                                    9103 non-null   float64\n",
      " 8   Total Time Spent on Website                    9240 non-null   int64  \n",
      " 9   Page Views Per Visit                           9103 non-null   float64\n",
      " 10  Last Activity                                  9137 non-null   object \n",
      " 11  Country                                        6779 non-null   object \n",
      " 12  Specialization                                 7802 non-null   object \n",
      " 13  How did you hear about X Education             7033 non-null   object \n",
      " 14  What is your current occupation                6550 non-null   object \n",
      " 15  What matters most to you in choosing a course  6531 non-null   object \n",
      " 16  Search                                         9240 non-null   object \n",
      " 17  Magazine                                       9240 non-null   object \n",
      " 18  Newspaper Article                              9240 non-null   object \n",
      " 19  X Education Forums                             9240 non-null   object \n",
      " 20  Newspaper                                      9240 non-null   object \n",
      " 21  Digital Advertisement                          9240 non-null   object \n",
      " 22  Through Recommendations                        9240 non-null   object \n",
      " 23  Receive More Updates About Our Courses         9240 non-null   object \n",
      " 24  Tags                                           5887 non-null   object \n",
      " 25  Lead Quality                                   4473 non-null   object \n",
      " 26  Update me on Supply Chain Content              9240 non-null   object \n",
      " 27  Get updates on DM Content                      9240 non-null   object \n",
      " 28  Lead Profile                                   6531 non-null   object \n",
      " 29  City                                           7820 non-null   object \n",
      " 30  Asymmetrique Activity Index                    5022 non-null   object \n",
      " 31  Asymmetrique Profile Index                     5022 non-null   object \n",
      " 32  Asymmetrique Activity Score                    5022 non-null   float64\n",
      " 33  Asymmetrique Profile Score                     5022 non-null   float64\n",
      " 34  I agree to pay the amount through cheque       9240 non-null   object \n",
      " 35  A free copy of Mastering The Interview         9240 non-null   object \n",
      " 36  Last Notable Activity                          9240 non-null   object \n",
      "dtypes: float64(4), int64(3), object(30)\n",
      "memory usage: 2.6+ MB\n"
     ]
    }
   ],
   "source": [
    "data.info()"
   ]
  },
  {
   "cell_type": "code",
   "execution_count": 26,
   "id": "a9a4e8e2-1bea-48e6-90b1-e6289830ba9c",
   "metadata": {},
   "outputs": [
    {
     "data": {
      "text/plain": [
       "Index(['Prospect_ID', 'Lead_Number', 'Lead_Origin', 'Lead_Source',\n",
       "       'Do_Not_Email', 'Do_Not_Call', 'Converted', 'TotalVisits',\n",
       "       'Total_Time_Spent_on_Website', 'Page_Views_Per_Visit', 'Last_Activity',\n",
       "       'Country', 'Specialization', 'Referral_Source', 'Current_Occupation',\n",
       "       'Course_Selection_Factors', 'Search', 'Magazine', 'Newspaper_Article',\n",
       "       'Education_Form', 'Newspaper', 'Digital_Advertisement',\n",
       "       'Through_Recommendations', 'More_Updates', 'Tags', 'Lead_Quality',\n",
       "       'Update_Supplychain_Content', 'Updates_On_DM_Content', 'Lead_Profile',\n",
       "       'City', 'Asymmetrique_Activity_Index', 'Asymmetrique_Profile_Index',\n",
       "       'Asymmetrique_Activity_Score', 'Asymmetrique_Profile_Score',\n",
       "       'Amount_Paid_Cheque', 'Free_Copy_Mastering_Interview',\n",
       "       'Last_Notable_Activity'],\n",
       "      dtype='object')"
      ]
     },
     "execution_count": 26,
     "metadata": {},
     "output_type": "execute_result"
    }
   ],
   "source": [
    "# Rename column names\n",
    "\n",
    "col_names = [\n",
    "    'Prospect_ID','Lead_Number','Lead_Origin','Lead_Source','Do_Not_Email','Do_Not_Call','Converted','TotalVisits','Total_Time_Spent_on_Website',\n",
    "    'Page_Views_Per_Visit','Last_Activity','Country','Specialization','Referral_Source','Current_Occupation','Course_Selection_Factors',\n",
    "    'Search','Magazine','Newspaper_Article','Education_Form','Newspaper','Digital_Advertisement','Through_Recommendations','More_Updates',\n",
    "    'Tags','Lead_Quality','Update_Supplychain_Content','Updates_On_DM_Content','Lead_Profile','City','Asymmetrique_Activity_Index',\n",
    "    'Asymmetrique_Profile_Index','Asymmetrique_Activity_Score','Asymmetrique_Profile_Score','Amount_Paid_Cheque','Free_Copy_Mastering_Interview',\n",
    "    'Last_Notable_Activity']\n",
    "data.columns = col_names\n",
    "data.columns"
   ]
  },
  {
   "cell_type": "code",
   "execution_count": 27,
   "id": "3f388c3f-06e7-40f4-819e-f839a8278240",
   "metadata": {},
   "outputs": [
    {
     "data": {
      "text/plain": [
       "Prospect_ID                         0\n",
       "Lead_Number                         0\n",
       "Lead_Origin                         0\n",
       "Lead_Source                        36\n",
       "Do_Not_Email                        0\n",
       "Do_Not_Call                         0\n",
       "Converted                           0\n",
       "TotalVisits                       137\n",
       "Total_Time_Spent_on_Website         0\n",
       "Page_Views_Per_Visit              137\n",
       "Last_Activity                     103\n",
       "Country                          2461\n",
       "Specialization                   1438\n",
       "Referral_Source                  2207\n",
       "Current_Occupation               2690\n",
       "Course_Selection_Factors         2709\n",
       "Search                              0\n",
       "Magazine                            0\n",
       "Newspaper_Article                   0\n",
       "Education_Form                      0\n",
       "Newspaper                           0\n",
       "Digital_Advertisement               0\n",
       "Through_Recommendations             0\n",
       "More_Updates                        0\n",
       "Tags                             3353\n",
       "Lead_Quality                     4767\n",
       "Update_Supplychain_Content          0\n",
       "Updates_On_DM_Content               0\n",
       "Lead_Profile                     2709\n",
       "City                             1420\n",
       "Asymmetrique_Activity_Index      4218\n",
       "Asymmetrique_Profile_Index       4218\n",
       "Asymmetrique_Activity_Score      4218\n",
       "Asymmetrique_Profile_Score       4218\n",
       "Amount_Paid_Cheque                  0\n",
       "Free_Copy_Mastering_Interview       0\n",
       "Last_Notable_Activity               0\n",
       "dtype: int64"
      ]
     },
     "execution_count": 27,
     "metadata": {},
     "output_type": "execute_result"
    }
   ],
   "source": [
    "data.isnull().sum()"
   ]
  },
  {
   "cell_type": "code",
   "execution_count": 28,
   "id": "79fda3dc-13fd-45fc-b311-acdcff0bf552",
   "metadata": {},
   "outputs": [],
   "source": [
    "# List of columns to drop having more than 50% of nulls\n",
    "columns_to_drop = ['Prospect_ID','Lead_Number','Tags','Do_Not_Email','Do_Not_Call','TotalVisits','Last_Activity','Page_Views_Per_Visit','Asymmetrique_Activity_Index',\n",
    "                  'Magazine','Newspaper_Article','Education_Form','Newspaper','Search','More_Updates','Digital_Advertisement','Amount_Paid_Cheque','Through_Recommendations','Free_Copy_Mastering_Interview','Last_Notable_Activity','Asymmetrique_Profile_Index','Asymmetrique_Activity_Score','Asymmetrique_Profile_Score']\n",
    "data.drop(columns_to_drop, axis = 1, inplace=True)"
   ]
  },
  {
   "cell_type": "code",
   "execution_count": 29,
   "id": "b7fb6cdc-1d4a-4624-a082-b3990d1657a9",
   "metadata": {},
   "outputs": [
    {
     "name": "stdout",
     "output_type": "stream",
     "text": [
      "<class 'pandas.core.frame.DataFrame'>\n",
      "RangeIndex: 9240 entries, 0 to 9239\n",
      "Data columns (total 14 columns):\n",
      " #   Column                       Non-Null Count  Dtype \n",
      "---  ------                       --------------  ----- \n",
      " 0   Lead_Origin                  9240 non-null   object\n",
      " 1   Lead_Source                  9204 non-null   object\n",
      " 2   Converted                    9240 non-null   int64 \n",
      " 3   Total_Time_Spent_on_Website  9240 non-null   int64 \n",
      " 4   Country                      6779 non-null   object\n",
      " 5   Specialization               7802 non-null   object\n",
      " 6   Referral_Source              7033 non-null   object\n",
      " 7   Current_Occupation           6550 non-null   object\n",
      " 8   Course_Selection_Factors     6531 non-null   object\n",
      " 9   Lead_Quality                 4473 non-null   object\n",
      " 10  Update_Supplychain_Content   9240 non-null   object\n",
      " 11  Updates_On_DM_Content        9240 non-null   object\n",
      " 12  Lead_Profile                 6531 non-null   object\n",
      " 13  City                         7820 non-null   object\n",
      "dtypes: int64(2), object(12)\n",
      "memory usage: 1010.8+ KB\n"
     ]
    }
   ],
   "source": [
    "data.info()"
   ]
  },
  {
   "cell_type": "code",
   "execution_count": 30,
   "id": "8d9a933d-454e-4b64-81aa-fbe33c9408d5",
   "metadata": {},
   "outputs": [
    {
     "data": {
      "text/plain": [
       "Lead_Origin                    0\n",
       "Lead_Source                    0\n",
       "Converted                      0\n",
       "Total_Time_Spent_on_Website    0\n",
       "Country                        0\n",
       "Specialization                 0\n",
       "Referral_Source                0\n",
       "Current_Occupation             0\n",
       "Course_Selection_Factors       0\n",
       "Lead_Quality                   0\n",
       "Update_Supplychain_Content     0\n",
       "Updates_On_DM_Content          0\n",
       "Lead_Profile                   0\n",
       "City                           0\n",
       "dtype: int64"
      ]
     },
     "execution_count": 30,
     "metadata": {},
     "output_type": "execute_result"
    }
   ],
   "source": [
    "# Fill missing values in categorical columns with mode\n",
    "for column in data.select_dtypes(include=['object']).columns:\n",
    "    data[column].fillna(data[column].mode()[0], inplace=True)\n",
    "data.isnull().sum()"
   ]
  },
  {
   "cell_type": "code",
   "execution_count": 31,
   "id": "3cae3da9-bcc0-492f-9f00-0b312de952fc",
   "metadata": {},
   "outputs": [
    {
     "name": "stdout",
     "output_type": "stream",
     "text": [
      "Lead_Origin                    5\n",
      "Lead_Source                   21\n",
      "Country                       38\n",
      "Specialization                19\n",
      "Referral_Source               10\n",
      "Current_Occupation             6\n",
      "Course_Selection_Factors       3\n",
      "Lead_Quality                   5\n",
      "Update_Supplychain_Content     1\n",
      "Updates_On_DM_Content          1\n",
      "Lead_Profile                   6\n",
      "City                           7\n",
      "dtype: int64\n"
     ]
    }
   ],
   "source": [
    "# Get the number of unique categories in each categorical column\n",
    "category_counts = data.select_dtypes(include=['object']).nunique()\n",
    "\n",
    "# Display the result\n",
    "print(category_counts)"
   ]
  },
  {
   "cell_type": "code",
   "execution_count": 32,
   "id": "7158da8b-1fdd-4a71-b0ef-1e07a93b82a4",
   "metadata": {},
   "outputs": [],
   "source": [
    "# Column with one category dropped\n",
    "columns_to_drop = ['Update_Supplychain_Content', 'Updates_On_DM_Content']\n",
    "data.drop(columns_to_drop, axis = 1, inplace=True)"
   ]
  },
  {
   "cell_type": "code",
   "execution_count": 33,
   "id": "9aa06900-2ddf-402e-a3dc-8c44a487f6b4",
   "metadata": {},
   "outputs": [
    {
     "name": "stdout",
     "output_type": "stream",
     "text": [
      "<class 'pandas.core.frame.DataFrame'>\n",
      "RangeIndex: 9240 entries, 0 to 9239\n",
      "Data columns (total 12 columns):\n",
      " #   Column                       Non-Null Count  Dtype \n",
      "---  ------                       --------------  ----- \n",
      " 0   Lead_Origin                  9240 non-null   object\n",
      " 1   Lead_Source                  9240 non-null   object\n",
      " 2   Converted                    9240 non-null   int64 \n",
      " 3   Total_Time_Spent_on_Website  9240 non-null   int64 \n",
      " 4   Country                      9240 non-null   object\n",
      " 5   Specialization               9240 non-null   object\n",
      " 6   Referral_Source              9240 non-null   object\n",
      " 7   Current_Occupation           9240 non-null   object\n",
      " 8   Course_Selection_Factors     9240 non-null   object\n",
      " 9   Lead_Quality                 9240 non-null   object\n",
      " 10  Lead_Profile                 9240 non-null   object\n",
      " 11  City                         9240 non-null   object\n",
      "dtypes: int64(2), object(10)\n",
      "memory usage: 866.4+ KB\n"
     ]
    }
   ],
   "source": [
    "data.info()"
   ]
  },
  {
   "cell_type": "code",
   "execution_count": 37,
   "id": "4058db7b-f8b9-480a-87c8-af06cf2c4728",
   "metadata": {},
   "outputs": [
    {
     "name": "stdout",
     "output_type": "stream",
     "text": [
      "['India' 'Russia' 'Kuwait' 'Oman' 'United Arab Emirates' 'United States'\n",
      " 'Australia' 'United Kingdom' 'Bahrain' 'Ghana' 'Singapore' 'Qatar'\n",
      " 'Saudi Arabia' 'Belgium' 'France' 'Sri Lanka' 'China' 'Canada'\n",
      " 'Netherlands' 'Sweden' 'Nigeria' 'Hong Kong' 'Germany'\n",
      " 'Asia/Pacific Region' 'Uganda' 'Kenya' 'Italy' 'South Africa' 'Tanzania'\n",
      " 'unknown' 'Malaysia' 'Liberia' 'Switzerland' 'Denmark' 'Philippines'\n",
      " 'Bangladesh' 'Vietnam' 'Indonesia']\n",
      "['Select' 'Business Administration' 'Media and Advertising'\n",
      " 'Supply Chain Management' 'IT Projects Management' 'Finance Management'\n",
      " 'Travel and Tourism' 'Human Resource Management' 'Marketing Management'\n",
      " 'Banking, Investment And Insurance' 'International Business' 'E-COMMERCE'\n",
      " 'Operations Management' 'Retail Management' 'Services Excellence'\n",
      " 'Hospitality Management' 'Rural and Agribusiness' 'Healthcare Management'\n",
      " 'E-Business']\n",
      "['API' 'Landing Page Submission' 'Lead Add Form' 'Lead Import'\n",
      " 'Quick Add Form']\n",
      "['Olark Chat' 'Organic Search' 'Direct Traffic' 'Google' 'Referral Sites'\n",
      " 'Welingak Website' 'Reference' 'google' 'Facebook' 'blog'\n",
      " 'Pay per Click Ads' 'bing' 'Social Media' 'WeLearn' 'Click2call'\n",
      " 'Live Chat' 'welearnblog_Home' 'youtubechannel' 'testone' 'Press_Release'\n",
      " 'NC_EDM']\n",
      "['Unemployed' 'Student' 'Working Professional' 'Businessman' 'Other'\n",
      " 'Housewife']\n",
      "['Better Career Prospects' 'Flexibility & Convenience' 'Other']\n"
     ]
    }
   ],
   "source": [
    "# Check unique values\n",
    "print(data['Country'].unique())\n",
    "print(data['Specialization'].unique())\n",
    "print(data['Lead_Origin'].unique())\n",
    "print(data['Lead_Source'].unique())\n",
    "print(data['Current_Occupation'].unique())\n",
    "print(data['Course_Selection_Factors'].unique())"
   ]
  },
  {
   "cell_type": "code",
   "execution_count": 38,
   "id": "abefbda7-fdb9-4f3b-a3b5-c21bf6edba34",
   "metadata": {},
   "outputs": [],
   "source": [
    "# List of columns to convert\n",
    "columns_to_convert =  ['Total_Time_Spent_on_Website']\n",
    "\n",
    "# Convert each column to int\n",
    "data[columns_to_convert] = data[columns_to_convert].astype(int)"
   ]
  },
  {
   "cell_type": "code",
   "execution_count": 39,
   "id": "41275d54-3046-4b5c-a300-fd3fa6ed0b02",
   "metadata": {},
   "outputs": [
    {
     "data": {
      "text/plain": [
       "([<matplotlib.axis.XTick at 0x1efbd571a90>,\n",
       "  <matplotlib.axis.XTick at 0x1efb0e77e90>],\n",
       " [Text(0, 0, 'Not Converted'), Text(1, 0, 'Converted')])"
      ]
     },
     "execution_count": 39,
     "metadata": {},
     "output_type": "execute_result"
    },
    {
     "data": {
      "image/png": "[encoded data removed]",
      "text/plain": [
       "<Figure size 1000x600 with 1 Axes>"
      ]
     },
     "metadata": {},
     "output_type": "display_data"
    }
   ],
   "source": [
    "#EDA\n",
    "# Check the balance of the 'Converted' column\n",
    "converted_counts = data['Converted'].value_counts()\n",
    "\n",
    "# Plotting barplot\n",
    "plt.figure(figsize=(10, 6))\n",
    "sns.barplot(x=converted_counts.index, y=converted_counts.values)\n",
    "\n",
    "# Adding plot title and x & y labels\n",
    "plt.title('Converted Leads Distribution', fontsize=20, fontweight='bold', color='Brown')\n",
    "plt.xlabel('Converted', fontsize=15)\n",
    "plt.ylabel('Count', fontsize=15)\n",
    "plt.xticks(ticks=[0, 1], labels=['Not Converted', 'Converted']) \n"
   ]
  },
  {
   "cell_type": "code",
   "execution_count": 40,
   "id": "163b5103-079c-4186-876c-cdf5ef3b09a7",
   "metadata": {},
   "outputs": [
    {
     "data": {
      "image/png": "[encoded data removed]",
      "text/plain": [
       "<Figure size 1000x800 with 1 Axes>"
      ]
     },
     "metadata": {},
     "output_type": "display_data"
    }
   ],
   "source": [
    "# Histogram for numerical columns\n",
    "data[['Total_Time_Spent_on_Website']].hist(bins=20, figsize=(10, 8))\n",
    "plt.suptitle('Distribution of Numerical Features')\n",
    "plt.show()\n",
    "\n"
   ]
  },
  {
   "cell_type": "code",
   "execution_count": 41,
   "id": "e937f3f1-abcf-47f2-a639-39cd0a688c43",
   "metadata": {},
   "outputs": [
    {
     "data": {
      "image/png": "[encoded data removed]",
      "text/plain": [
       "<Figure size 640x480 with 1 Axes>"
      ]
     },
     "metadata": {},
     "output_type": "display_data"
    }
   ],
   "source": [
    "# Boxplot to see the relationship\n",
    "sns.boxplot(x='Converted', y='Total_Time_Spent_on_Website', data=data)\n",
    "plt.title('Total Time Spent on Website vs Converted')\n",
    "plt.show()\n"
   ]
  },
  {
   "cell_type": "code",
   "execution_count": 42,
   "id": "d5e33ba8-8931-4786-b997-fc1fa4d10446",
   "metadata": {},
   "outputs": [],
   "source": [
    "data.to_csv(\"D:\\cleaned_datas.csv\")"
   ]
  },
  {
   "cell_type": "code",
   "execution_count": null,
   "id": "4b3b12db-82a2-4341-a574-f661bfe7d3e0",
   "metadata": {},
   "outputs": [],
   "source": []
  }
 ],
 "metadata": {
  "kernelspec": {
   "display_name": "Python 3 (ipykernel)",
   "language": "python",
   "name": "python3"
  },
  "language_info": {
   "codemirror_mode": {
    "name": "ipython",
    "version": 3
   },
   "file_extension": ".py",
   "mimetype": "text/x-python",
   "name": "python",
   "nbconvert_exporter": "python",
   "pygments_lexer": "ipython3",
   "version": "3.11.7"
  }
 },
 "nbformat": 4,
 "nbformat_minor": 5
}
